{
  "cells": [
    {
      "cell_type": "markdown",
      "metadata": {
        "id": "ZauhjPSfX7pI"
      },
      "source": [
        "# Balancing a Pole on a Cart\n",
        "\n"
      ]
    },
    {
      "cell_type": "markdown",
      "source": [
        "**Contributions**\n",
        "\n",
        "Reviewing literature on RL algorithms for the Cart-Pole problem: All\n",
        "\n",
        "Implementing and testing different RL algorithms such as Q-learning, Deep Q Networks (DQN), Dueling networks, etc. : All \n",
        "\n",
        "Assignment of tasks (including documentation):\n",
        "\n",
        "Task 1: Nalin, Yong Jian\n",
        "\n",
        "Task 2: Dong Wan, Nalin\n",
        "\n",
        "Task 3: Yong Jian, Dong Wan"
      ],
      "metadata": {
        "id": "zRnPkOv0MFss"
      }
    },
    {
      "cell_type": "markdown",
      "metadata": {
        "id": "UBiYOoesYMvr"
      },
      "source": [
        "## Installation of Dependencies"
      ]
    },
    {
      "cell_type": "code",
      "execution_count": null,
      "metadata": {
        "id": "CCVV6hr22SmQ",
        "colab": {
          "base_uri": "https://localhost:8080/"
        },
        "outputId": "3aeabae6-bfd5-47e1-f214-a78d6ba4899a"
      },
      "outputs": [
        {
          "output_type": "stream",
          "name": "stdout",
          "text": [
            "Looking in indexes: https://pypi.org/simple, https://us-python.pkg.dev/colab-wheels/public/simple/\n",
            "Requirement already satisfied: gym[classic_control] in /usr/local/lib/python3.9/dist-packages (0.25.2)\n",
            "Requirement already satisfied: gym-notices>=0.0.4 in /usr/local/lib/python3.9/dist-packages (from gym[classic_control]) (0.0.8)\n",
            "Requirement already satisfied: cloudpickle>=1.2.0 in /usr/local/lib/python3.9/dist-packages (from gym[classic_control]) (2.2.1)\n",
            "Requirement already satisfied: importlib-metadata>=4.8.0 in /usr/local/lib/python3.9/dist-packages (from gym[classic_control]) (6.1.0)\n",
            "Requirement already satisfied: numpy>=1.18.0 in /usr/local/lib/python3.9/dist-packages (from gym[classic_control]) (1.22.4)\n",
            "Collecting pygame==2.1.0\n",
            "  Downloading pygame-2.1.0-cp39-cp39-manylinux_2_17_x86_64.manylinux2014_x86_64.whl (18.3 MB)\n",
            "\u001b[2K     \u001b[90m━━━━━━━━━━━━━━━━━━━━━━━━━━━━━━━━━━━━━━━━\u001b[0m \u001b[32m18.3/18.3 MB\u001b[0m \u001b[31m60.1 MB/s\u001b[0m eta \u001b[36m0:00:00\u001b[0m\n",
            "\u001b[?25hRequirement already satisfied: zipp>=0.5 in /usr/local/lib/python3.9/dist-packages (from importlib-metadata>=4.8.0->gym[classic_control]) (3.15.0)\n",
            "Installing collected packages: pygame\n",
            "  Attempting uninstall: pygame\n",
            "    Found existing installation: pygame 2.3.0\n",
            "    Uninstalling pygame-2.3.0:\n",
            "      Successfully uninstalled pygame-2.3.0\n",
            "Successfully installed pygame-2.1.0\n",
            "Looking in indexes: https://pypi.org/simple, https://us-python.pkg.dev/colab-wheels/public/simple/\n",
            "Requirement already satisfied: setuptools in /usr/local/lib/python3.9/dist-packages (67.6.1)\n",
            "Looking in indexes: https://pypi.org/simple, https://us-python.pkg.dev/colab-wheels/public/simple/\n",
            "Collecting tensorflow==2.7.0\n",
            "  Downloading tensorflow-2.7.0-cp39-cp39-manylinux2010_x86_64.whl (489.7 MB)\n",
            "\u001b[2K     \u001b[90m━━━━━━━━━━━━━━━━━━━━━━━━━━━━━━━━━━━━━━━\u001b[0m \u001b[32m489.7/489.7 MB\u001b[0m \u001b[31m3.2 MB/s\u001b[0m eta \u001b[36m0:00:00\u001b[0m\n",
            "\u001b[?25hCollecting keras-preprocessing>=1.1.1\n",
            "  Downloading Keras_Preprocessing-1.1.2-py2.py3-none-any.whl (42 kB)\n",
            "\u001b[2K     \u001b[90m━━━━━━━━━━━━━━━━━━━━━━━━━━━━━━━━━━━━━━━━\u001b[0m \u001b[32m42.6/42.6 KB\u001b[0m \u001b[31m5.0 MB/s\u001b[0m eta \u001b[36m0:00:00\u001b[0m\n",
            "\u001b[?25hRequirement already satisfied: h5py>=2.9.0 in /usr/local/lib/python3.9/dist-packages (from tensorflow==2.7.0) (3.8.0)\n",
            "Requirement already satisfied: grpcio<2.0,>=1.24.3 in /usr/local/lib/python3.9/dist-packages (from tensorflow==2.7.0) (1.51.3)\n",
            "Requirement already satisfied: wheel<1.0,>=0.32.0 in /usr/local/lib/python3.9/dist-packages (from tensorflow==2.7.0) (0.40.0)\n",
            "Collecting flatbuffers<3.0,>=1.12\n",
            "  Downloading flatbuffers-2.0.7-py2.py3-none-any.whl (26 kB)\n",
            "Requirement already satisfied: libclang>=9.0.1 in /usr/local/lib/python3.9/dist-packages (from tensorflow==2.7.0) (16.0.0)\n",
            "Requirement already satisfied: google-pasta>=0.1.1 in /usr/local/lib/python3.9/dist-packages (from tensorflow==2.7.0) (0.2.0)\n",
            "Requirement already satisfied: astunparse>=1.6.0 in /usr/local/lib/python3.9/dist-packages (from tensorflow==2.7.0) (1.6.3)\n",
            "Requirement already satisfied: termcolor>=1.1.0 in /usr/local/lib/python3.9/dist-packages (from tensorflow==2.7.0) (2.2.0)\n",
            "Requirement already satisfied: typing-extensions>=3.6.6 in /usr/local/lib/python3.9/dist-packages (from tensorflow==2.7.0) (4.5.0)\n",
            "Collecting tensorflow-estimator<2.8,~=2.7.0rc0\n",
            "  Downloading tensorflow_estimator-2.7.0-py2.py3-none-any.whl (463 kB)\n",
            "\u001b[2K     \u001b[90m━━━━━━━━━━━━━━━━━━━━━━━━━━━━━━━━━━━━━━\u001b[0m \u001b[32m463.1/463.1 KB\u001b[0m \u001b[31m45.4 MB/s\u001b[0m eta \u001b[36m0:00:00\u001b[0m\n",
            "\u001b[?25hRequirement already satisfied: tensorboard~=2.6 in /usr/local/lib/python3.9/dist-packages (from tensorflow==2.7.0) (2.11.2)\n",
            "Requirement already satisfied: tensorflow-io-gcs-filesystem>=0.21.0 in /usr/local/lib/python3.9/dist-packages (from tensorflow==2.7.0) (0.31.0)\n",
            "Collecting keras<2.8,>=2.7.0rc0\n",
            "  Downloading keras-2.7.0-py2.py3-none-any.whl (1.3 MB)\n",
            "\u001b[2K     \u001b[90m━━━━━━━━━━━━━━━━━━━━━━━━━━━━━━━━━━━━━━━━\u001b[0m \u001b[32m1.3/1.3 MB\u001b[0m \u001b[31m76.9 MB/s\u001b[0m eta \u001b[36m0:00:00\u001b[0m\n",
            "\u001b[?25hRequirement already satisfied: six>=1.12.0 in /usr/local/lib/python3.9/dist-packages (from tensorflow==2.7.0) (1.16.0)\n",
            "Requirement already satisfied: absl-py>=0.4.0 in /usr/local/lib/python3.9/dist-packages (from tensorflow==2.7.0) (1.4.0)\n",
            "Requirement already satisfied: numpy>=1.14.5 in /usr/local/lib/python3.9/dist-packages (from tensorflow==2.7.0) (1.22.4)\n",
            "Requirement already satisfied: gast<0.5.0,>=0.2.1 in /usr/local/lib/python3.9/dist-packages (from tensorflow==2.7.0) (0.4.0)\n",
            "Requirement already satisfied: wrapt>=1.11.0 in /usr/local/lib/python3.9/dist-packages (from tensorflow==2.7.0) (1.15.0)\n",
            "Requirement already satisfied: protobuf>=3.9.2 in /usr/local/lib/python3.9/dist-packages (from tensorflow==2.7.0) (3.19.6)\n",
            "Requirement already satisfied: opt-einsum>=2.3.2 in /usr/local/lib/python3.9/dist-packages (from tensorflow==2.7.0) (3.3.0)\n",
            "Requirement already satisfied: tensorboard-plugin-wit>=1.6.0 in /usr/local/lib/python3.9/dist-packages (from tensorboard~=2.6->tensorflow==2.7.0) (1.8.1)\n",
            "Requirement already satisfied: setuptools>=41.0.0 in /usr/local/lib/python3.9/dist-packages (from tensorboard~=2.6->tensorflow==2.7.0) (67.6.1)\n",
            "Requirement already satisfied: werkzeug>=1.0.1 in /usr/local/lib/python3.9/dist-packages (from tensorboard~=2.6->tensorflow==2.7.0) (2.2.3)\n",
            "Requirement already satisfied: markdown>=2.6.8 in /usr/local/lib/python3.9/dist-packages (from tensorboard~=2.6->tensorflow==2.7.0) (3.4.3)\n",
            "Requirement already satisfied: google-auth<3,>=1.6.3 in /usr/local/lib/python3.9/dist-packages (from tensorboard~=2.6->tensorflow==2.7.0) (2.16.3)\n",
            "Requirement already satisfied: tensorboard-data-server<0.7.0,>=0.6.0 in /usr/local/lib/python3.9/dist-packages (from tensorboard~=2.6->tensorflow==2.7.0) (0.6.1)\n",
            "Requirement already satisfied: requests<3,>=2.21.0 in /usr/local/lib/python3.9/dist-packages (from tensorboard~=2.6->tensorflow==2.7.0) (2.27.1)\n",
            "Requirement already satisfied: google-auth-oauthlib<0.5,>=0.4.1 in /usr/local/lib/python3.9/dist-packages (from tensorboard~=2.6->tensorflow==2.7.0) (0.4.6)\n",
            "Requirement already satisfied: rsa<5,>=3.1.4 in /usr/local/lib/python3.9/dist-packages (from google-auth<3,>=1.6.3->tensorboard~=2.6->tensorflow==2.7.0) (4.9)\n",
            "Requirement already satisfied: pyasn1-modules>=0.2.1 in /usr/local/lib/python3.9/dist-packages (from google-auth<3,>=1.6.3->tensorboard~=2.6->tensorflow==2.7.0) (0.2.8)\n",
            "Requirement already satisfied: cachetools<6.0,>=2.0.0 in /usr/local/lib/python3.9/dist-packages (from google-auth<3,>=1.6.3->tensorboard~=2.6->tensorflow==2.7.0) (5.3.0)\n",
            "Requirement already satisfied: requests-oauthlib>=0.7.0 in /usr/local/lib/python3.9/dist-packages (from google-auth-oauthlib<0.5,>=0.4.1->tensorboard~=2.6->tensorflow==2.7.0) (1.3.1)\n",
            "Requirement already satisfied: importlib-metadata>=4.4 in /usr/local/lib/python3.9/dist-packages (from markdown>=2.6.8->tensorboard~=2.6->tensorflow==2.7.0) (6.1.0)\n",
            "Requirement already satisfied: urllib3<1.27,>=1.21.1 in /usr/local/lib/python3.9/dist-packages (from requests<3,>=2.21.0->tensorboard~=2.6->tensorflow==2.7.0) (1.26.15)\n",
            "Requirement already satisfied: idna<4,>=2.5 in /usr/local/lib/python3.9/dist-packages (from requests<3,>=2.21.0->tensorboard~=2.6->tensorflow==2.7.0) (3.4)\n",
            "Requirement already satisfied: certifi>=2017.4.17 in /usr/local/lib/python3.9/dist-packages (from requests<3,>=2.21.0->tensorboard~=2.6->tensorflow==2.7.0) (2022.12.7)\n",
            "Requirement already satisfied: charset-normalizer~=2.0.0 in /usr/local/lib/python3.9/dist-packages (from requests<3,>=2.21.0->tensorboard~=2.6->tensorflow==2.7.0) (2.0.12)\n",
            "Requirement already satisfied: MarkupSafe>=2.1.1 in /usr/local/lib/python3.9/dist-packages (from werkzeug>=1.0.1->tensorboard~=2.6->tensorflow==2.7.0) (2.1.2)\n",
            "Requirement already satisfied: zipp>=0.5 in /usr/local/lib/python3.9/dist-packages (from importlib-metadata>=4.4->markdown>=2.6.8->tensorboard~=2.6->tensorflow==2.7.0) (3.15.0)\n",
            "Requirement already satisfied: pyasn1<0.5.0,>=0.4.6 in /usr/local/lib/python3.9/dist-packages (from pyasn1-modules>=0.2.1->google-auth<3,>=1.6.3->tensorboard~=2.6->tensorflow==2.7.0) (0.4.8)\n",
            "Requirement already satisfied: oauthlib>=3.0.0 in /usr/local/lib/python3.9/dist-packages (from requests-oauthlib>=0.7.0->google-auth-oauthlib<0.5,>=0.4.1->tensorboard~=2.6->tensorflow==2.7.0) (3.2.2)\n",
            "Installing collected packages: tensorflow-estimator, keras, flatbuffers, keras-preprocessing, tensorflow\n",
            "  Attempting uninstall: tensorflow-estimator\n",
            "    Found existing installation: tensorflow-estimator 2.11.0\n",
            "    Uninstalling tensorflow-estimator-2.11.0:\n",
            "      Successfully uninstalled tensorflow-estimator-2.11.0\n",
            "  Attempting uninstall: keras\n",
            "    Found existing installation: keras 2.11.0\n",
            "    Uninstalling keras-2.11.0:\n",
            "      Successfully uninstalled keras-2.11.0\n",
            "  Attempting uninstall: flatbuffers\n",
            "    Found existing installation: flatbuffers 23.3.3\n",
            "    Uninstalling flatbuffers-23.3.3:\n",
            "      Successfully uninstalled flatbuffers-23.3.3\n",
            "  Attempting uninstall: tensorflow\n",
            "    Found existing installation: tensorflow 2.11.0\n",
            "    Uninstalling tensorflow-2.11.0:\n",
            "      Successfully uninstalled tensorflow-2.11.0\n",
            "Successfully installed flatbuffers-2.0.7 keras-2.7.0 keras-preprocessing-1.1.2 tensorflow-2.7.0 tensorflow-estimator-2.7.0\n",
            "Looking in indexes: https://pypi.org/simple, https://us-python.pkg.dev/colab-wheels/public/simple/\n",
            "Requirement already satisfied: gym in /usr/local/lib/python3.9/dist-packages (0.25.2)\n",
            "Requirement already satisfied: cloudpickle>=1.2.0 in /usr/local/lib/python3.9/dist-packages (from gym) (2.2.1)\n",
            "Requirement already satisfied: gym-notices>=0.0.4 in /usr/local/lib/python3.9/dist-packages (from gym) (0.0.8)\n",
            "Requirement already satisfied: numpy>=1.18.0 in /usr/local/lib/python3.9/dist-packages (from gym) (1.22.4)\n",
            "Requirement already satisfied: importlib-metadata>=4.8.0 in /usr/local/lib/python3.9/dist-packages (from gym) (6.1.0)\n",
            "Requirement already satisfied: zipp>=0.5 in /usr/local/lib/python3.9/dist-packages (from importlib-metadata>=4.8.0->gym) (3.15.0)\n",
            "Looking in indexes: https://pypi.org/simple, https://us-python.pkg.dev/colab-wheels/public/simple/\n",
            "Requirement already satisfied: keras in /usr/local/lib/python3.9/dist-packages (2.7.0)\n",
            "Looking in indexes: https://pypi.org/simple, https://us-python.pkg.dev/colab-wheels/public/simple/\n",
            "Collecting keras-rl2\n",
            "  Downloading keras_rl2-1.0.5-py3-none-any.whl (52 kB)\n",
            "\u001b[2K     \u001b[90m━━━━━━━━━━━━━━━━━━━━━━━━━━━━━━━━━━━━━━━━\u001b[0m \u001b[32m52.1/52.1 KB\u001b[0m \u001b[31m1.5 MB/s\u001b[0m eta \u001b[36m0:00:00\u001b[0m\n",
            "\u001b[?25hRequirement already satisfied: tensorflow in /usr/local/lib/python3.9/dist-packages (from keras-rl2) (2.7.0)\n",
            "Requirement already satisfied: keras<2.8,>=2.7.0rc0 in /usr/local/lib/python3.9/dist-packages (from tensorflow->keras-rl2) (2.7.0)\n",
            "Requirement already satisfied: google-pasta>=0.1.1 in /usr/local/lib/python3.9/dist-packages (from tensorflow->keras-rl2) (0.2.0)\n",
            "Requirement already satisfied: libclang>=9.0.1 in /usr/local/lib/python3.9/dist-packages (from tensorflow->keras-rl2) (16.0.0)\n",
            "Requirement already satisfied: flatbuffers<3.0,>=1.12 in /usr/local/lib/python3.9/dist-packages (from tensorflow->keras-rl2) (2.0.7)\n",
            "Requirement already satisfied: h5py>=2.9.0 in /usr/local/lib/python3.9/dist-packages (from tensorflow->keras-rl2) (3.8.0)\n",
            "Requirement already satisfied: tensorboard~=2.6 in /usr/local/lib/python3.9/dist-packages (from tensorflow->keras-rl2) (2.11.2)\n",
            "Requirement already satisfied: protobuf>=3.9.2 in /usr/local/lib/python3.9/dist-packages (from tensorflow->keras-rl2) (3.19.6)\n",
            "Requirement already satisfied: keras-preprocessing>=1.1.1 in /usr/local/lib/python3.9/dist-packages (from tensorflow->keras-rl2) (1.1.2)\n",
            "Requirement already satisfied: gast<0.5.0,>=0.2.1 in /usr/local/lib/python3.9/dist-packages (from tensorflow->keras-rl2) (0.4.0)\n",
            "Requirement already satisfied: termcolor>=1.1.0 in /usr/local/lib/python3.9/dist-packages (from tensorflow->keras-rl2) (2.2.0)\n",
            "Requirement already satisfied: astunparse>=1.6.0 in /usr/local/lib/python3.9/dist-packages (from tensorflow->keras-rl2) (1.6.3)\n",
            "Requirement already satisfied: typing-extensions>=3.6.6 in /usr/local/lib/python3.9/dist-packages (from tensorflow->keras-rl2) (4.5.0)\n",
            "Requirement already satisfied: tensorflow-io-gcs-filesystem>=0.21.0 in /usr/local/lib/python3.9/dist-packages (from tensorflow->keras-rl2) (0.31.0)\n",
            "Requirement already satisfied: opt-einsum>=2.3.2 in /usr/local/lib/python3.9/dist-packages (from tensorflow->keras-rl2) (3.3.0)\n",
            "Requirement already satisfied: wheel<1.0,>=0.32.0 in /usr/local/lib/python3.9/dist-packages (from tensorflow->keras-rl2) (0.40.0)\n",
            "Requirement already satisfied: wrapt>=1.11.0 in /usr/local/lib/python3.9/dist-packages (from tensorflow->keras-rl2) (1.15.0)\n",
            "Requirement already satisfied: absl-py>=0.4.0 in /usr/local/lib/python3.9/dist-packages (from tensorflow->keras-rl2) (1.4.0)\n",
            "Requirement already satisfied: numpy>=1.14.5 in /usr/local/lib/python3.9/dist-packages (from tensorflow->keras-rl2) (1.22.4)\n",
            "Requirement already satisfied: six>=1.12.0 in /usr/local/lib/python3.9/dist-packages (from tensorflow->keras-rl2) (1.16.0)\n",
            "Requirement already satisfied: grpcio<2.0,>=1.24.3 in /usr/local/lib/python3.9/dist-packages (from tensorflow->keras-rl2) (1.51.3)\n",
            "Requirement already satisfied: tensorflow-estimator<2.8,~=2.7.0rc0 in /usr/local/lib/python3.9/dist-packages (from tensorflow->keras-rl2) (2.7.0)\n",
            "Requirement already satisfied: setuptools>=41.0.0 in /usr/local/lib/python3.9/dist-packages (from tensorboard~=2.6->tensorflow->keras-rl2) (67.6.1)\n",
            "Requirement already satisfied: google-auth-oauthlib<0.5,>=0.4.1 in /usr/local/lib/python3.9/dist-packages (from tensorboard~=2.6->tensorflow->keras-rl2) (0.4.6)\n",
            "Requirement already satisfied: requests<3,>=2.21.0 in /usr/local/lib/python3.9/dist-packages (from tensorboard~=2.6->tensorflow->keras-rl2) (2.27.1)\n",
            "Requirement already satisfied: markdown>=2.6.8 in /usr/local/lib/python3.9/dist-packages (from tensorboard~=2.6->tensorflow->keras-rl2) (3.4.3)\n",
            "Requirement already satisfied: tensorboard-data-server<0.7.0,>=0.6.0 in /usr/local/lib/python3.9/dist-packages (from tensorboard~=2.6->tensorflow->keras-rl2) (0.6.1)\n",
            "Requirement already satisfied: tensorboard-plugin-wit>=1.6.0 in /usr/local/lib/python3.9/dist-packages (from tensorboard~=2.6->tensorflow->keras-rl2) (1.8.1)\n",
            "Requirement already satisfied: werkzeug>=1.0.1 in /usr/local/lib/python3.9/dist-packages (from tensorboard~=2.6->tensorflow->keras-rl2) (2.2.3)\n",
            "Requirement already satisfied: google-auth<3,>=1.6.3 in /usr/local/lib/python3.9/dist-packages (from tensorboard~=2.6->tensorflow->keras-rl2) (2.16.3)\n",
            "Requirement already satisfied: cachetools<6.0,>=2.0.0 in /usr/local/lib/python3.9/dist-packages (from google-auth<3,>=1.6.3->tensorboard~=2.6->tensorflow->keras-rl2) (5.3.0)\n",
            "Requirement already satisfied: rsa<5,>=3.1.4 in /usr/local/lib/python3.9/dist-packages (from google-auth<3,>=1.6.3->tensorboard~=2.6->tensorflow->keras-rl2) (4.9)\n",
            "Requirement already satisfied: pyasn1-modules>=0.2.1 in /usr/local/lib/python3.9/dist-packages (from google-auth<3,>=1.6.3->tensorboard~=2.6->tensorflow->keras-rl2) (0.2.8)\n",
            "Requirement already satisfied: requests-oauthlib>=0.7.0 in /usr/local/lib/python3.9/dist-packages (from google-auth-oauthlib<0.5,>=0.4.1->tensorboard~=2.6->tensorflow->keras-rl2) (1.3.1)\n",
            "Requirement already satisfied: importlib-metadata>=4.4 in /usr/local/lib/python3.9/dist-packages (from markdown>=2.6.8->tensorboard~=2.6->tensorflow->keras-rl2) (6.1.0)\n",
            "Requirement already satisfied: charset-normalizer~=2.0.0 in /usr/local/lib/python3.9/dist-packages (from requests<3,>=2.21.0->tensorboard~=2.6->tensorflow->keras-rl2) (2.0.12)\n",
            "Requirement already satisfied: certifi>=2017.4.17 in /usr/local/lib/python3.9/dist-packages (from requests<3,>=2.21.0->tensorboard~=2.6->tensorflow->keras-rl2) (2022.12.7)\n",
            "Requirement already satisfied: urllib3<1.27,>=1.21.1 in /usr/local/lib/python3.9/dist-packages (from requests<3,>=2.21.0->tensorboard~=2.6->tensorflow->keras-rl2) (1.26.15)\n",
            "Requirement already satisfied: idna<4,>=2.5 in /usr/local/lib/python3.9/dist-packages (from requests<3,>=2.21.0->tensorboard~=2.6->tensorflow->keras-rl2) (3.4)\n",
            "Requirement already satisfied: MarkupSafe>=2.1.1 in /usr/local/lib/python3.9/dist-packages (from werkzeug>=1.0.1->tensorboard~=2.6->tensorflow->keras-rl2) (2.1.2)\n",
            "Requirement already satisfied: zipp>=0.5 in /usr/local/lib/python3.9/dist-packages (from importlib-metadata>=4.4->markdown>=2.6.8->tensorboard~=2.6->tensorflow->keras-rl2) (3.15.0)\n",
            "Requirement already satisfied: pyasn1<0.5.0,>=0.4.6 in /usr/local/lib/python3.9/dist-packages (from pyasn1-modules>=0.2.1->google-auth<3,>=1.6.3->tensorboard~=2.6->tensorflow->keras-rl2) (0.4.8)\n",
            "Requirement already satisfied: oauthlib>=3.0.0 in /usr/local/lib/python3.9/dist-packages (from requests-oauthlib>=0.7.0->google-auth-oauthlib<0.5,>=0.4.1->tensorboard~=2.6->tensorflow->keras-rl2) (3.2.2)\n",
            "Installing collected packages: keras-rl2\n",
            "Successfully installed keras-rl2-1.0.5\n",
            "Looking in indexes: https://pypi.org/simple, https://us-python.pkg.dev/colab-wheels/public/simple/\n",
            "Requirement already satisfied: pygame in /usr/local/lib/python3.9/dist-packages (2.1.0)\n"
          ]
        }
      ],
      "source": [
        "!apt-get install -y xvfb python-opengl > /dev/null 2>&1\n",
        "!pip install gym pyvirtualdisplay > /dev/null 2>&1\n",
        "!pip install gym pyvirtualdisplay > /dev/null 2>&1\n",
        "!apt-get install -y xvfb python-opengl ffmpeg > /dev/null 2>&1\n",
        "!pip install gym[classic_control]\n",
        "!apt-get update > /dev/null 2>&1\n",
        "!apt-get install cmake > /dev/null 2>&1\n",
        "!pip install --upgrade setuptools 2>&1\n",
        "!pip install ez_setup > /dev/null 2>&1\n",
        "!pip install tensorflow==2.7.0\n",
        "!pip install gym\n",
        "!pip install keras\n",
        "!pip install keras-rl2\n",
        "!pip install pygame"
      ]
    },
    {
      "cell_type": "markdown",
      "metadata": {
        "id": "RwKbYeTgbaTA"
      },
      "source": [
        "## Importing Dependencies and Define Helper Functions"
      ]
    },
    {
      "cell_type": "markdown",
      "source": [
        "After installing the above dependencies, we need to import them in order to use them in our code. Additionally, we will create a function that will play a short video depicting how the cart is balancing on the pole at the end of this lab."
      ],
      "metadata": {
        "id": "Vwa0iJ5KleeX"
      }
    },
    {
      "cell_type": "code",
      "execution_count": null,
      "metadata": {
        "id": "j6KpgCLGYWmj"
      },
      "outputs": [],
      "source": [
        "import gym\n",
        "from gym import logger as gymlogger\n",
        "from gym.wrappers import RecordVideo\n",
        "gymlogger.set_level(40) #error only\n",
        "import tensorflow as tf\n",
        "import numpy as np\n",
        "import random\n",
        "import matplotlib\n",
        "import matplotlib.pyplot as plt\n",
        "%matplotlib inline\n",
        "import math\n",
        "import glob\n",
        "import io\n",
        "import base64\n",
        "from IPython.display import HTML\n",
        "from IPython import display as ipythondisplay\n",
        "\n",
        "def show_video():\n",
        "    \"\"\"\n",
        "    Function to play video of cart balancing on the pole.\n",
        "    \"\"\"\n",
        "    mp4list = glob.glob('video/*.mp4')\n",
        "    if len(mp4list) > 0:\n",
        "        mp4 = mp4list[0]\n",
        "        video = io.open(mp4, 'r+b').read()\n",
        "        encoded = base64.b64encode(video)\n",
        "        ipythondisplay.display(HTML(data='''<video alt=\"test\" autoplay \n",
        "                    loop controls style=\"height: 400px;\">\n",
        "                    <source src=\"data:video/mp4;base64,{0}\" type=\"video/mp4\" />\n",
        "                    </video>'''.format(encoded.decode('ascii'))))\n",
        "    else: \n",
        "        print(\"Could not find video\")"
      ]
    },
    {
      "cell_type": "markdown",
      "metadata": {
        "id": "ehbqP9CXbmo7"
      },
      "source": [
        "## Setting Up the CartPole Environment"
      ]
    },
    {
      "cell_type": "markdown",
      "source": [
        "In this lab, we will be creating an environment based on version 1 of CartPole, using Python's **gym** library."
      ],
      "metadata": {
        "id": "UWvbp_3hrOtP"
      }
    },
    {
      "cell_type": "code",
      "execution_count": null,
      "metadata": {
        "id": "Go12dH4qbwBy",
        "colab": {
          "base_uri": "https://localhost:8080/"
        },
        "outputId": "c6d47abb-0e28-4a4c-9f42-43d98d46a26f"
      },
      "outputs": [
        {
          "output_type": "stream",
          "name": "stderr",
          "text": [
            "/usr/local/lib/python3.9/dist-packages/ipykernel/ipkernel.py:283: DeprecationWarning: `should_run_async` will not call `transform_cell` automatically in the future. Please pass the result to `transformed_cell` argument and any exception that happen during thetransform in `preprocessing_exc_tuple` in IPython 7.17 and above.\n",
            "  and should_run_async(code)\n"
          ]
        }
      ],
      "source": [
        "env = gym.make(\"CartPole-v1\")"
      ]
    },
    {
      "cell_type": "markdown",
      "metadata": {
        "id": "pVXGWi_Ncfg-"
      },
      "source": [
        "The observation space of this environment can be determined as follows. In this case, the first 2 array elements in the tuple contain the minimum and maximum values (respectively) of the 4 observed values, each of which corresponding to cart position, velocity, pole angle and angular velocity."
      ]
    },
    {
      "cell_type": "code",
      "execution_count": null,
      "metadata": {
        "colab": {
          "base_uri": "https://localhost:8080/"
        },
        "id": "DyqHr9I5cdkX",
        "outputId": "fdf73739-2d45-4c2b-c578-fed08d443768"
      },
      "outputs": [
        {
          "output_type": "stream",
          "name": "stdout",
          "text": [
            "Box([-4.8000002e+00 -3.4028235e+38 -4.1887903e-01 -3.4028235e+38], [4.8000002e+00 3.4028235e+38 4.1887903e-01 3.4028235e+38], (4,), float32)\n"
          ]
        }
      ],
      "source": [
        "print(env.observation_space)"
      ]
    },
    {
      "cell_type": "markdown",
      "metadata": {
        "id": "9XZ9g3xrcAXE"
      },
      "source": [
        "Next, the action space of this environment can be determined as follows. In this case, it is \"Discrete(2)\", which indicates that there are **2** valid discrete actions that the CartPole can perform in this environment - 0 for pushing to the **left** and 1 for pushing to the **right**."
      ]
    },
    {
      "cell_type": "code",
      "execution_count": null,
      "metadata": {
        "colab": {
          "base_uri": "https://localhost:8080/"
        },
        "id": "ytxvVmLdcRyw",
        "outputId": "f59b2a20-cdd1-42d6-b78a-3c4f4f06dc11"
      },
      "outputs": [
        {
          "output_type": "stream",
          "name": "stdout",
          "text": [
            "Discrete(2)\n"
          ]
        }
      ],
      "source": [
        "print(env.action_space)"
      ]
    },
    {
      "cell_type": "markdown",
      "metadata": {
        "id": "HFOdaU2Gdyg0"
      },
      "source": [
        "Each round of the pole-balancing game is known as an **episode**. At the start of each episode, we need to make sure that the environment is reset, such that a random initial state will be chosen for each episode. An example of an initial state can be that the pole is tilted slightly to the right. \n",
        "\n",
        "The observation of the initial state can be determined as follows:"
      ]
    },
    {
      "cell_type": "code",
      "execution_count": null,
      "metadata": {
        "colab": {
          "base_uri": "https://localhost:8080/"
        },
        "id": "VMr6qAqxdOsm",
        "outputId": "c6661bbd-0533-4d14-e459-577aad18c19b"
      },
      "outputs": [
        {
          "output_type": "stream",
          "name": "stdout",
          "text": [
            "Initial observations: [-0.02079632 -0.04333283  0.00013937  0.03282137]\n"
          ]
        }
      ],
      "source": [
        "observation = env.reset()\n",
        "print(\"Initial observations:\", observation)"
      ]
    },
    {
      "cell_type": "markdown",
      "metadata": {
        "id": "qnG2QdfbeZrI"
      },
      "source": [
        "As mentioned earlier, our CartPole environment has 2 discrete actions that can be performed by the cart pole - either being pushed to the left (0) or to the right (1).\n",
        "\n",
        "In the following example, we push the cart pole to the right, and the following code returns the new observation, the current reward, an indicator of whether the game ends, and some additional information which is not relevant to this lab. For each step in which the pole is balanced until the game ends, 1 point will be rewarded. However, the maximum cumulative reward is 500."
      ]
    },
    {
      "cell_type": "code",
      "execution_count": null,
      "metadata": {
        "colab": {
          "base_uri": "https://localhost:8080/"
        },
        "id": "MmfMDvyYdWGk",
        "outputId": "b384d6e0-a1e5-43f3-a1b2-090e682e8dce"
      },
      "outputs": [
        {
          "output_type": "stream",
          "name": "stdout",
          "text": [
            "New observations after choosing action 1: [-0.02166298  0.15178712  0.00079579 -0.25981757]\n",
            "Reward for this step: 1.0\n",
            "Is this round done? False\n"
          ]
        }
      ],
      "source": [
        "observation, reward, done, info = env.step(1)\n",
        "print(\"New observations after choosing action 1:\", observation)\n",
        "print(\"Reward for this step:\", reward)\n",
        "print(\"Is this round done?\", done)"
      ]
    },
    {
      "cell_type": "markdown",
      "metadata": {
        "id": "tj0zCh59fhBb"
      },
      "source": [
        "To demonstrate how a full round of the game is like, we will adopt a naive strategy of choosing action 1 (pushing the cart pole to the right) all the time. The cumulative reward in the round is shown below. \n",
        "\n"
      ]
    },
    {
      "cell_type": "code",
      "execution_count": null,
      "metadata": {
        "colab": {
          "base_uri": "https://localhost:8080/"
        },
        "id": "AVucQVRwf6Jm",
        "outputId": "f31f8712-ba6e-4923-a611-bab5a153dfff"
      },
      "outputs": [
        {
          "output_type": "stream",
          "name": "stdout",
          "text": [
            "Cumulative reward for this round: 9.0\n"
          ]
        }
      ],
      "source": [
        "observation = env.reset()\n",
        "cumulative_reward = 1\n",
        "done = False\n",
        "\n",
        "while not done:\n",
        "    # Reward for current step\n",
        "    observation, reward, done, info = env.step(1)  \n",
        "    # Reward will be accumulated from all steps\n",
        "    cumulative_reward += reward \n",
        "\n",
        "# Reward for the full round\n",
        "print(\"Cumulative reward for this round:\", cumulative_reward) "
      ]
    },
    {
      "cell_type": "markdown",
      "source": [
        "Clearly, the naive strategy performs poorly as it could survive only about a dozen of steps."
      ],
      "metadata": {
        "id": "tKqxX1Sg18Nm"
      }
    },
    {
      "cell_type": "markdown",
      "metadata": {
        "id": "VYAatzRG-JVk"
      },
      "source": [
        "# Task 1: Development of an RL agent"
      ]
    },
    {
      "cell_type": "markdown",
      "source": [
        "## Importing Essential Libraries"
      ],
      "metadata": {
        "id": "rX_zCrTgufg-"
      }
    },
    {
      "cell_type": "markdown",
      "source": [
        "In our project, we utilize a Deep Q-Network (DQN) agent. The DQN agent is a reinforcement learning algorithm that learns to make decisions by maximizing a reward signal. We train the agent through its interactions with the environment and learning from the observed rewards. Here's a brief description of each library/model used:\n",
        "\n",
        "\n",
        "\n",
        "> os and io are Python libraries for working with files and directories.\n",
        "\n",
        "> numpy is a library for scientific, numeric computations in python \n",
        "\n",
        "> Flatten is a class from the keras.layers module that flattens the input to a neural network.\n",
        "\n",
        "> Dense is a class from the keras.layers module that represents a fully connected layer in a neural network.\n",
        "\n",
        "> Sequential is a class from the keras.models module that enables the creation of a layered neural network model.\n",
        "\n",
        "> Adam is a class from the keras.optimizers module that implements the Adam optimization algorithm.\n",
        "\n",
        "> DQNAgent is a class from the rl.agents module that implements the DQN algorithm.\n",
        "\n",
        "> SequentialMemory is a class from the rl.memory module that implements a memory buffer for the DQN algorithm.\n",
        "\n",
        "> MaxBoltzmannQPolicy is a class from the rl.policy module that implements the Max-Boltzmann exploration strategy.\n",
        "\n"
      ],
      "metadata": {
        "id": "lmJ_7vCu-JVq"
      }
    },
    {
      "cell_type": "code",
      "execution_count": null,
      "metadata": {
        "id": "OfI-bDvu-JVr"
      },
      "outputs": [],
      "source": [
        "import os\n",
        "import io\n",
        "import numpy as np\n",
        "from tensorflow.keras.layers import Dense, Flatten\n",
        "from tensorflow.keras.models import Sequential\n",
        "from tensorflow.keras.optimizers import Adam\n",
        "from rl.agents import DQNAgent\n",
        "from rl.memory import SequentialMemory\n",
        "from rl.policy import MaxBoltzmannQPolicy\n"
      ]
    },
    {
      "cell_type": "markdown",
      "source": [
        "## Agent & Model Building"
      ],
      "metadata": {
        "id": "2tHJEOj3umOt"
      }
    },
    {
      "cell_type": "markdown",
      "source": [
        "\n",
        "The following code creates a DQN agent with a neural network that has two fully connected layers and a flatten layer. \n",
        "\n",
        "We explore the Keras-RL Library and implement the DQNAgent class and its various functions to build a neural network agent that help to train the cartpole.The agent uses the **MaxBoltzmannQPolicy** policy and the SequentialMemory memory.\n",
        "\n",
        "(*Note about policy usage*: \n",
        "The Boltzmann Q and Max-Boltzmann Q policies build a probability law based on Q values and returns an action selected randomly according to this law. We chose to use Max-Boltzmann Q for our exploration policy over Boltzmann Q as we noticed a remarkable improvement in the reward, over Boltzmann Q. We attribute this change to the control of randomness present in the Max-Boltzmann Q policy. This is useful when the agent needs to balance exploration and exploitation, and also useful when the agent is stuck in a local optimum value and needs to explore more.)\n",
        "\n"
      ],
      "metadata": {
        "id": "OlDz0trRuon9"
      }
    },
    {
      "cell_type": "code",
      "source": [
        "states = env.observation_space.shape[0]\n",
        "actions = env.action_space.n\n",
        "os.environ[\"SDL_VIDEODRIVER\"] = \"dummy\"\n",
        "\n",
        "def create_agent(model, actions):\n",
        "    memory = SequentialMemory(limit=50000, window_length=1)\n",
        "    policy = MaxBoltzmannQPolicy() # exploration policy of choice\n",
        "    dqn = DQNAgent(model=model, memory=memory, policy=policy, nb_actions=actions, nb_steps_warmup=10, target_model_update=1e-2)\n",
        "    return dqn"
      ],
      "metadata": {
        "id": "HLtbqL7s-VJc"
      },
      "execution_count": null,
      "outputs": []
    },
    {
      "cell_type": "markdown",
      "source": [
        "Next, to build the neural network we utilize the Keras library.The neural network has an input layer with the number of states in the environment, and subsequently two hidden layers with 24 neurons each, which also represents the dimensionality of the respective output spaces. Finally, we add an output layer with dimensionality corresponding to the number of actions in the environment. "
      ],
      "metadata": {
        "id": "rLbe2b74-fh6"
      }
    },
    {
      "cell_type": "code",
      "execution_count": null,
      "metadata": {
        "id": "zzBRh_37-JVr"
      },
      "outputs": [],
      "source": [
        "def create_model(states, actions):\n",
        "    model = Sequential() # To sequentially add the neural layers\n",
        "    model.add(Flatten(input_shape=(1, states)))\n",
        "    model.add(Dense(24, activation='relu')) # two 'hidden' layers\n",
        "    model.add(Dense(24, activation='relu'))\n",
        "    model.add(Dense(actions, activation='linear')) # output\n",
        "    return model"
      ]
    },
    {
      "cell_type": "markdown",
      "source": [
        "Lastly, the agent is trained using the fit method of the DQNAgent class. The fit method takes the environment, the number of steps to train the agent, and other parameters as input. 'nb_steps' represents the number of times the agent will run the neural network. We have experimented to use between 30000 - 100000 and we found out that **50000** can give us the most optimal output as too many steps will cause overfitting issue."
      ],
      "metadata": {
        "id": "YC_g2Syc_uOQ"
      }
    },
    {
      "cell_type": "code",
      "source": [
        "# Building model and agent\n",
        "model = create_model(states, actions) \n",
        "dqn = create_agent(model, actions)\n",
        "\n",
        "# Optimizing training params using the Adam optimizer\n",
        "dqn.compile(Adam(lr=1e-3), metrics=['mae'])\n",
        "\n",
        "# Training the agent, with a calculated optimum no. of steps\n",
        "dqn.fit(env, nb_steps=50000, visualize=False, verbose=1)"
      ],
      "metadata": {
        "id": "RY7GCmmn_r5F",
        "colab": {
          "base_uri": "https://localhost:8080/"
        },
        "outputId": "2e77ff14-fb58-44ce-bbcf-dfeac404a650"
      },
      "execution_count": null,
      "outputs": [
        {
          "output_type": "stream",
          "name": "stderr",
          "text": [
            "/usr/local/lib/python3.9/dist-packages/keras/optimizer_v2/adam.py:105: UserWarning: The `lr` argument is deprecated, use `learning_rate` instead.\n",
            "  super(Adam, self).__init__(name, **kwargs)\n"
          ]
        },
        {
          "output_type": "stream",
          "name": "stdout",
          "text": [
            "Training for 50000 steps ...\n",
            "Interval 1 (0 steps performed)\n"
          ]
        },
        {
          "output_type": "stream",
          "name": "stderr",
          "text": [
            "/usr/local/lib/python3.9/dist-packages/keras/engine/training_v1.py:2079: UserWarning: `Model.state_updates` will be removed in a future version. This property should not be used in TensorFlow 2.0, as `updates` are applied automatically.\n",
            "  updates=self.state_updates,\n"
          ]
        },
        {
          "output_type": "stream",
          "name": "stdout",
          "text": [
            "\r    1/10000 [..............................] - ETA: 8:26:16 - reward: 1.0000"
          ]
        },
        {
          "output_type": "stream",
          "name": "stderr",
          "text": [
            "/usr/local/lib/python3.9/dist-packages/rl/memory.py:37: UserWarning: Not enough entries to sample without replacement. Consider increasing your warm-up phase to avoid oversampling!\n",
            "  warnings.warn('Not enough entries to sample without replacement. Consider increasing your warm-up phase to avoid oversampling!')\n",
            "/usr/local/lib/python3.9/dist-packages/rl/memory.py:38: DeprecationWarning: This function is deprecated. Please call randint(1, 11 + 1) instead\n",
            "  batch_idxs = np.random.random_integers(low, high - 1, size=size)\n"
          ]
        },
        {
          "output_type": "stream",
          "name": "stdout",
          "text": [
            "   19/10000 [..............................] - ETA: 10:54 - reward: 1.0000"
          ]
        },
        {
          "output_type": "stream",
          "name": "stderr",
          "text": [
            "/usr/local/lib/python3.9/dist-packages/rl/memory.py:38: DeprecationWarning: This function is deprecated. Please call randint(1, 12 + 1) instead\n",
            "  batch_idxs = np.random.random_integers(low, high - 1, size=size)\n",
            "/usr/local/lib/python3.9/dist-packages/rl/memory.py:38: DeprecationWarning: This function is deprecated. Please call randint(1, 13 + 1) instead\n",
            "  batch_idxs = np.random.random_integers(low, high - 1, size=size)\n",
            "/usr/local/lib/python3.9/dist-packages/rl/memory.py:38: DeprecationWarning: This function is deprecated. Please call randint(1, 14 + 1) instead\n",
            "  batch_idxs = np.random.random_integers(low, high - 1, size=size)\n",
            "/usr/local/lib/python3.9/dist-packages/rl/memory.py:38: DeprecationWarning: This function is deprecated. Please call randint(1, 15 + 1) instead\n",
            "  batch_idxs = np.random.random_integers(low, high - 1, size=size)\n",
            "/usr/local/lib/python3.9/dist-packages/rl/memory.py:38: DeprecationWarning: This function is deprecated. Please call randint(1, 16 + 1) instead\n",
            "  batch_idxs = np.random.random_integers(low, high - 1, size=size)\n",
            "/usr/local/lib/python3.9/dist-packages/rl/memory.py:38: DeprecationWarning: This function is deprecated. Please call randint(1, 17 + 1) instead\n",
            "  batch_idxs = np.random.random_integers(low, high - 1, size=size)\n",
            "/usr/local/lib/python3.9/dist-packages/rl/memory.py:38: DeprecationWarning: This function is deprecated. Please call randint(1, 18 + 1) instead\n",
            "  batch_idxs = np.random.random_integers(low, high - 1, size=size)\n",
            "/usr/local/lib/python3.9/dist-packages/rl/memory.py:38: DeprecationWarning: This function is deprecated. Please call randint(1, 19 + 1) instead\n",
            "  batch_idxs = np.random.random_integers(low, high - 1, size=size)\n",
            "/usr/local/lib/python3.9/dist-packages/rl/memory.py:38: DeprecationWarning: This function is deprecated. Please call randint(1, 20 + 1) instead\n",
            "  batch_idxs = np.random.random_integers(low, high - 1, size=size)\n"
          ]
        },
        {
          "output_type": "stream",
          "name": "stdout",
          "text": [
            "   27/10000 [..............................] - ETA: 8:48 - reward: 1.0000"
          ]
        },
        {
          "output_type": "stream",
          "name": "stderr",
          "text": [
            "/usr/local/lib/python3.9/dist-packages/rl/memory.py:38: DeprecationWarning: This function is deprecated. Please call randint(1, 21 + 1) instead\n",
            "  batch_idxs = np.random.random_integers(low, high - 1, size=size)\n",
            "/usr/local/lib/python3.9/dist-packages/rl/memory.py:38: DeprecationWarning: This function is deprecated. Please call randint(1, 22 + 1) instead\n",
            "  batch_idxs = np.random.random_integers(low, high - 1, size=size)\n",
            "/usr/local/lib/python3.9/dist-packages/rl/memory.py:38: DeprecationWarning: This function is deprecated. Please call randint(1, 23 + 1) instead\n",
            "  batch_idxs = np.random.random_integers(low, high - 1, size=size)\n",
            "/usr/local/lib/python3.9/dist-packages/rl/memory.py:38: DeprecationWarning: This function is deprecated. Please call randint(1, 24 + 1) instead\n",
            "  batch_idxs = np.random.random_integers(low, high - 1, size=size)\n",
            "/usr/local/lib/python3.9/dist-packages/rl/memory.py:38: DeprecationWarning: This function is deprecated. Please call randint(1, 25 + 1) instead\n",
            "  batch_idxs = np.random.random_integers(low, high - 1, size=size)\n",
            "/usr/local/lib/python3.9/dist-packages/rl/memory.py:38: DeprecationWarning: This function is deprecated. Please call randint(1, 26 + 1) instead\n",
            "  batch_idxs = np.random.random_integers(low, high - 1, size=size)\n",
            "/usr/local/lib/python3.9/dist-packages/rl/memory.py:38: DeprecationWarning: This function is deprecated. Please call randint(1, 27 + 1) instead\n",
            "  batch_idxs = np.random.random_integers(low, high - 1, size=size)\n",
            "/usr/local/lib/python3.9/dist-packages/rl/memory.py:38: DeprecationWarning: This function is deprecated. Please call randint(1, 28 + 1) instead\n",
            "  batch_idxs = np.random.random_integers(low, high - 1, size=size)\n",
            "/usr/local/lib/python3.9/dist-packages/rl/memory.py:38: DeprecationWarning: This function is deprecated. Please call randint(1, 29 + 1) instead\n",
            "  batch_idxs = np.random.random_integers(low, high - 1, size=size)\n",
            "/usr/local/lib/python3.9/dist-packages/rl/memory.py:38: DeprecationWarning: This function is deprecated. Please call randint(1, 30 + 1) instead\n",
            "  batch_idxs = np.random.random_integers(low, high - 1, size=size)\n",
            "/usr/local/lib/python3.9/dist-packages/rl/memory.py:38: DeprecationWarning: This function is deprecated. Please call randint(1, 31 + 1) instead\n",
            "  batch_idxs = np.random.random_integers(low, high - 1, size=size)\n"
          ]
        },
        {
          "output_type": "stream",
          "name": "stdout",
          "text": [
            "10000/10000 [==============================] - 117s 11ms/step - reward: 1.0000\n",
            "137 episodes - episode_reward: 72.642 [8.000, 342.000] - loss: 2.288 - mae: 15.553 - mean_q: 31.323\n",
            "\n",
            "Interval 2 (10000 steps performed)\n",
            "10000/10000 [==============================] - 101s 10ms/step - reward: 1.0000\n",
            "40 episodes - episode_reward: 247.825 [183.000, 437.000] - loss: 2.722 - mae: 35.064 - mean_q: 70.810\n",
            "\n",
            "Interval 3 (20000 steps performed)\n",
            "10000/10000 [==============================] - 99s 10ms/step - reward: 1.0000\n",
            "26 episodes - episode_reward: 377.423 [250.000, 500.000] - loss: 2.308 - mae: 42.472 - mean_q: 85.436\n",
            "\n",
            "Interval 4 (30000 steps performed)\n",
            "10000/10000 [==============================] - 102s 10ms/step - reward: 1.0000\n",
            "20 episodes - episode_reward: 500.000 [500.000, 500.000] - loss: 4.331 - mae: 45.934 - mean_q: 92.061\n",
            "\n",
            "Interval 5 (40000 steps performed)\n",
            "10000/10000 [==============================] - 100s 10ms/step - reward: 1.0000\n",
            "done, took 518.715 seconds\n"
          ]
        },
        {
          "output_type": "execute_result",
          "data": {
            "text/plain": [
              "<keras.callbacks.History at 0x7f7360c885e0>"
            ]
          },
          "metadata": {},
          "execution_count": 12
        }
      ]
    },
    {
      "cell_type": "markdown",
      "source": [
        "## Rewards for Training Data of Neural Network\n"
      ],
      "metadata": {
        "id": "SJRbNFB3NB8p"
      }
    },
    {
      "cell_type": "markdown",
      "source": [
        "Note: This is not Task 2. This is not analyzing the cumulative reward over 100 episodes.\n",
        "\n",
        "The code below aims to analyse the training data acquired from the neural network over more than 200 episodes. It can be seen that the initial result was unsatisfactory when the network was untrained. However, after 110 episodes, we can see a spike in the increase in rewards. The subsequent rewards for the training data starts to exceed 195. There were even several occasions where it hits the max reward of 500."
      ],
      "metadata": {
        "id": "BEmOh--oW5lo"
      }
    },
    {
      "cell_type": "code",
      "execution_count": null,
      "metadata": {
        "id": "RZrCKywQi6CE",
        "colab": {
          "base_uri": "https://localhost:8080/",
          "height": 471
        },
        "outputId": "c6c321be-d970-4d79-d224-7499d6169de1"
      },
      "outputs": [
        {
          "output_type": "display_data",
          "data": {
            "text/plain": [
              "<Figure size 640x480 with 1 Axes>"
            ],
            "image/png": "[encoded data removed]"
          },
          "metadata": {}
        }
      ],
      "source": [
        "# Getting training data from the DQN agent directly\n",
        "rewardOutput = dqn.history.history['episode_reward']\n",
        "plt.plot(rewardOutput)\n",
        "plt.title('Cumulative reward for each episode')\n",
        "plt.ylabel('Cumulative reward')\n",
        "plt.xlabel('episode')\n",
        "\n",
        "plt.ylim(ymin=0)\n",
        "\n",
        "plt.show()"
      ]
    },
    {
      "cell_type": "markdown",
      "metadata": {
        "id": "-XtIQ0Rti1gm"
      },
      "source": [
        "# Task 2: Demonstrate the Effectiveness of the RL Agent"
      ]
    },
    {
      "cell_type": "markdown",
      "source": [
        "# Model Testing & Graph Plotting For 100 Episodes"
      ],
      "metadata": {
        "id": "6L1sVPfMMxAr"
      }
    },
    {
      "cell_type": "markdown",
      "metadata": {
        "id": "XndSYH7wlvn7"
      },
      "source": [
        "The code below displays the average reward over 100 episodes."
      ]
    },
    {
      "cell_type": "code",
      "source": [
        "reward_dic = dict()\n",
        "observation = env.reset()\n",
        "total_reward = 0\n",
        "sum_reward = 0\n",
        "\n",
        "for i in range(100):\n",
        "  sum_reward+=total_reward\n",
        "  total_reward = 0\n",
        "  observation = env.reset()\n",
        "\n",
        "  while True:\n",
        "    # Reshape the observation to have three dimensions\n",
        "    states = np.reshape(observation, (env.observation_space.shape[0]))\n",
        "\n",
        "    # Predict the action using the neural network\n",
        "    action = dqn.forward(states)\n",
        "\n",
        "    # Take the action and get the next observation and reward\n",
        "    observation, reward, done, info = env.step(action)\n",
        "\n",
        "    #it will get 1 reward if the cartpole stays still for the time period\n",
        "    total_reward+=reward\n",
        "    reward_dic[i] = total_reward\n",
        "\n",
        "    # Check if the episode is done (when pole falls)\n",
        "    if done:\n",
        "        break\n",
        "\n",
        "env.close()\n",
        "\n",
        "# Getting all the values of a dictionary as a list\n",
        "list_of_the_values = list(reward_dic.values())"
      ],
      "metadata": {
        "id": "VYuMtdlZMqAC"
      },
      "execution_count": null,
      "outputs": []
    },
    {
      "cell_type": "markdown",
      "source": [
        "We will then plot a graph based on our test data for 100 episodes. Based on the graph, the cumulative reward for each episode ranges from around 200 to around 500, a possible indication that our DQN agent is \"good enough\"."
      ],
      "metadata": {
        "id": "c046aedNTt_p"
      }
    },
    {
      "cell_type": "code",
      "source": [
        "plt.plot(list_of_the_values)\n",
        "plt.title('Cumulative reward for each episode')\n",
        "plt.ylabel('Cumulative reward')\n",
        "plt.xlabel('episode')\n",
        "\n",
        "plt.ylim(ymin=0)\n",
        "\n",
        "plt.show()"
      ],
      "metadata": {
        "id": "r4puji4CMvhq",
        "colab": {
          "base_uri": "https://localhost:8080/",
          "height": 471
        },
        "outputId": "d25720fa-26ab-484e-afb1-4798bbec9c9a"
      },
      "execution_count": null,
      "outputs": [
        {
          "output_type": "display_data",
          "data": {
            "text/plain": [
              "<Figure size 640x480 with 1 Axes>"
            ],
            "image/png": "[encoded data removed]"
          },
          "metadata": {}
        }
      ]
    },
    {
      "cell_type": "markdown",
      "source": [
        "To further ascertain this initial judgement about our DQN agent in balancing the cart on the pole, we will calculate the average cumulative reward and check if it is higher than the requirement of **195**."
      ],
      "metadata": {
        "id": "HirrWhJTYVpV"
      }
    },
    {
      "cell_type": "code",
      "execution_count": null,
      "metadata": {
        "id": "pOiOp9OYlo5Y",
        "colab": {
          "base_uri": "https://localhost:8080/"
        },
        "outputId": "87a2b1c4-503a-4b12-c812-82c4d7af1590"
      },
      "outputs": [
        {
          "output_type": "stream",
          "name": "stdout",
          "text": [
            "Average cumulative reward: 407.46\n",
            "Is my agent good enough? True\n"
          ]
        }
      ],
      "source": [
        "print(\"Average cumulative reward:\", sum(list_of_the_values)/len(list_of_the_values))\n",
        "print(\"Is my agent good enough?\", (sum(list_of_the_values)/len(list_of_the_values)) > 195)"
      ]
    },
    {
      "cell_type": "markdown",
      "source": [
        "From our average cumulative reward, we see that our model convincingly meets the requirement (~340 vs 195). Hence, the agent that we have constructed is deemed to be 'good enough'. "
      ],
      "metadata": {
        "id": "Vy6IxT2WYlmc"
      }
    },
    {
      "cell_type": "markdown",
      "metadata": {
        "id": "Yg0DCT38lFA6"
      },
      "source": [
        "# Task 3: Rendering 1 Episode Played By Our DQN Agent"
      ]
    },
    {
      "cell_type": "markdown",
      "metadata": {
        "id": "vx1awMr9lc_w"
      },
      "source": [
        "We shall now plug our DQN agent into the code below to obtain our rendered result (total reward)."
      ]
    },
    {
      "cell_type": "markdown",
      "source": [
        "This is a video clip showing 1 episode of the cartpole environment that we have trained. It manages to balance itself for more than 10 seconds before eventually falling off, as compared to an untrained cartpole that is unable to stay for even 1 second. This indicates that our DQN agent is successful."
      ],
      "metadata": {
        "id": "lh1zftz1Wx3F"
      }
    },
    {
      "cell_type": "code",
      "execution_count": null,
      "metadata": {
        "id": "Tm0ydV-u0I3Z",
        "colab": {
          "base_uri": "https://localhost:8080/",
          "height": 420
        },
        "outputId": "b9be1ca7-4396-466d-c439-05dba11c9297"
      },
      "outputs": [
        {
          "output_type": "display_data",
          "data": {
            "text/plain": [
              "<IPython.core.display.HTML object>"
            ],
            "text/html": [
              "<video alt=\"test\" autoplay \n",
              "                    loop controls style=\"height: 400px;\">\n",
              "                    <source src=\"data:video/mp4;base64,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\" type=\"video/mp4\" />\n",
              "                    </video>"
            ]
          },
          "metadata": {}
        }
      ],
      "source": [
        "from gym.wrappers import RecordVideo\n",
        "\n",
        "env = RecordVideo(gym.make(\"CartPole-v1\"), \"./video\")\n",
        "observation = env.reset()\n",
        "\n",
        "\n",
        "while True:\n",
        "  env.render()\n",
        "  # Reshape the observation to have three dimensions\n",
        "  states = np.reshape(observation, (env.observation_space.shape[0]))\n",
        "  # Take the action and get the next observation and reward\n",
        "  action = dqn.forward(states)\n",
        "  # Check if the episode is done\n",
        "  observation, reward, done, info = env.step(action)\n",
        "\n",
        "  if done:\n",
        "      break\n",
        "\n",
        "env.close()\n",
        "show_video()"
      ]
    },
    {
      "cell_type": "code",
      "source": [
        "dqn.save_weights('neural_network_weight.h5f', overwrite=True)"
      ],
      "metadata": {
        "colab": {
          "base_uri": "https://localhost:8080/"
        },
        "id": "VaatUoy8o1MH",
        "outputId": "a2388011-2e06-46be-fdc7-bddabeb5d04e"
      },
      "execution_count": null,
      "outputs": [
        {
          "output_type": "stream",
          "name": "stderr",
          "text": [
            "/usr/local/lib/python3.9/dist-packages/ipykernel/ipkernel.py:283: DeprecationWarning: `should_run_async` will not call `transform_cell` automatically in the future. Please pass the result to `transformed_cell` argument and any exception that happen during thetransform in `preprocessing_exc_tuple` in IPython 7.17 and above.\n",
            "  and should_run_async(code)\n"
          ]
        }
      ]
    }
  ],
  "metadata": {
    "accelerator": "GPU",
    "colab": {
      "provenance": [],
      "collapsed_sections": [
        "-XtIQ0Rti1gm"
      ]
    },
    "gpuClass": "standard",
    "kernelspec": {
      "display_name": "Python 3",
      "name": "python3"
    },
    "language_info": {
      "name": "python"
    }
  },
  "nbformat": 4,
  "nbformat_minor": 0
}